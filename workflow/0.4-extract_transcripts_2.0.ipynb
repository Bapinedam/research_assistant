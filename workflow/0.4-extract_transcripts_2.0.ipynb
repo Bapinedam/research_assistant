{
 "cells": [
  {
   "cell_type": "code",
   "execution_count": 1,
   "id": "5b890995",
   "metadata": {},
   "outputs": [
    {
     "name": "stdout",
     "output_type": "stream",
     "text": [
      "Successfully loaded CODING table with 8847 rows and 59 columns\n",
      "Columns: ['ResponseId', 'Q37_feedback_on_work', 'Q38_1_feedback_helpful_AI', 'Q38_2_feedback_helpful_teacher', 'Q39_1_feedback_trust_AI', 'Q39_2_feedback_trust_teacher', 'Please describe any differences in how it impacted your learning (comparing GenAI and your teacher)?', 'Good Quote', 'Actor', 'Comparator', 'Characteristic', 'Actor.1', 'Comparator.1', 'Characteristic.1', 'Actor.2', 'Comparator.2', 'Characteristic.2', 'Actor.3', 'Comparator.3', 'Characteristic.3', 'Actor.4', 'Comparator.4', 'Characteristic.4', 'Actor.5', 'Comparator.5', 'Characteristic.5', 'Were there any differences in how the feedback made you feel (comparing GenAI and your teacher)?', 'Good Quote.1', 'Actor.6', 'Comparator.6', 'Characteristic.6', 'Actor.7', 'Comparator.7', 'Characteristic.7', 'Actor.8', 'Comparator.8', 'Characteristic.8', 'Actor.9', 'Comparator.9', 'Characteristic.9', 'Describe any other differences between the feedback you received from GenAI and your teacher.', 'Good Quote.2', 'Actor.10', 'Comparator.10', 'Characteristic.10', 'Actor.11', 'Comparator.11', 'Characteristic.11', 'Actor.12', 'Comparator.12', 'Characteristic.12', 'Actor.13', 'Comparator.13', 'Characteristic.13', 'Why didn’t you use GenAI for feedback on your work?', 'Good quote', 'Reason 1', 'Reason 2', 'Reason 3']\n"
     ]
    }
   ],
   "source": [
    "import pandas as pd\n",
    "import os\n",
    "\n",
    "def load_coding_table():\n",
    "    \"\"\"\n",
    "    Load the CODING sheet from the codebook.xlsx file into a pandas DataFrame.\n",
    "    \n",
    "    Returns:\n",
    "        pandas.DataFrame: The coding table from the CODING sheet\n",
    "    \"\"\"\n",
    "    # Define the path to the Excel file\n",
    "    excel_path = os.path.join(\"..\", \"Data\", \"codebook.xlsx\")\n",
    "    \n",
    "    try:\n",
    "        # Read the CODING sheet from the Excel file\n",
    "        coding_table = pd.read_excel(excel_path, sheet_name=\"CODING\")\n",
    "        \n",
    "        print(f\"Successfully loaded CODING table with {len(coding_table)} rows and {len(coding_table.columns)} columns\")\n",
    "        print(f\"Columns: {list(coding_table.columns)}\")\n",
    "        \n",
    "        return coding_table\n",
    "    \n",
    "    except FileNotFoundError:\n",
    "        print(f\"Error: File not found at {excel_path}\")\n",
    "        return None\n",
    "    except Exception as e:\n",
    "        print(f\"Error reading Excel file: {str(e)}\")\n",
    "        return None\n",
    "\n",
    "# Alternative function if you want to specify a custom path\n",
    "def load_coding_table_from_path(file_path):\n",
    "    \"\"\"\n",
    "    Load the CODING sheet from a specified Excel file path.\n",
    "    \n",
    "    Args:\n",
    "        file_path (str): Path to the Excel file\n",
    "        \n",
    "    Returns:\n",
    "        pandas.DataFrame: The coding table from the CODING sheet\n",
    "    \"\"\"\n",
    "    try:\n",
    "        # Read the CODING sheet from the Excel file\n",
    "        coding_table = pd.read_excel(file_path, sheet_name=\"CODING\")\n",
    "        \n",
    "        print(f\"Successfully loaded CODING table with {len(coding_table)} rows and {len(coding_table.columns)} columns\")\n",
    "        print(f\"Columns: {list(coding_table.columns)}\")\n",
    "        \n",
    "        return coding_table\n",
    "    \n",
    "    except FileNotFoundError:\n",
    "        print(f\"Error: File not found at {file_path}\")\n",
    "        return None\n",
    "    except Exception as e:\n",
    "        print(f\"Error reading Excel file: {str(e)}\")\n",
    "        return None\n",
    "\n",
    "\n",
    "coding_data = load_coding_table()"
   ]
  },
  {
   "cell_type": "markdown",
   "id": "789a9d00",
   "metadata": {},
   "source": [
    "Let's do a list of the valids caractheristics and reasons"
   ]
  },
  {
   "cell_type": "code",
   "execution_count": 10,
   "id": "da3ca50d",
   "metadata": {},
   "outputs": [],
   "source": [
    "characteristics = [\n",
    "    \"Ease\",\n",
    "    \"Speed\", \n",
    "    \"Volume\",\n",
    "    \"Before submission\",\n",
    "    \"After submission\",\n",
    "    \"Less effort\",\n",
    "    \"Understanding\",\n",
    "    \"Reflection\",\n",
    "    \"Progress\",\n",
    "    \"Specificity\",\n",
    "    \"In-depth\",\n",
    "    \"Understandable\",\n",
    "    \"Relevance\",\n",
    "    \"Contextualised\",\n",
    "    \"Utility\",\n",
    "    \"Reliable\",\n",
    "    \"Objective\",\n",
    "    \"Positivity\",\n",
    "    \"Negativity\",\n",
    "    \"Positive\",\n",
    "    \"Negative\",\n",
    "    \"No impact\",\n",
    "    \"Personal\",\n",
    "    \"Risky\",\n",
    "    \"Expert\",\n",
    "    \"Importance\"\n",
    "]\n",
    "\n",
    "reasons = [\n",
    "    \"Unaware\",\n",
    "    \"Effortful\", \n",
    "    \"Less effort\",\n",
    "    \"Specificity\",\n",
    "    \"In-depth\",\n",
    "    \"Contextualised\",\n",
    "    \"Utility\",\n",
    "    \"Trustworthy\",\n",
    "    \"Positivity\",\n",
    "    \"Personal\",\n",
    "    \"Expert\",\n",
    "    \"Preference\",\n",
    "    \"Need\",\n",
    "    \"Unsustainable\",\n",
    "    \"Privacy\",\n",
    "]\n"
   ]
  },
  {
   "cell_type": "markdown",
   "id": "824725c0",
   "metadata": {},
   "source": [
    "Now, let's see if all the characteristics in the codebook match with this in the lists"
   ]
  },
  {
   "cell_type": "code",
   "execution_count": 3,
   "id": "635971ca",
   "metadata": {},
   "outputs": [
    {
     "name": "stdout",
     "output_type": "stream",
     "text": [
      "Found 35 unique characteristic values:\n",
      "[' neutral', ' off-loading', 'a submission', 'b submission', 'contextualised', 'ease', 'expert', 'h KHIG', 'h kHIG', 'h reflect', 'h understand', 'h understand ', 'importance', 'in-depth', 'm vulnerable', 'm vulnerable ', 'negative', 'negativity', 'neutral', 'objective', 'off-loading', 'positive', 'positivity', 'relational', 'relational ', 'relevance', 'reliable', 'reliable ', 'specificity', 'specificity ', 'speed', 'understandable', 'utility', 'volume', 'volume ']\n",
      "\n",
      "Set of characteristic values: {'reliable', 'objective', 'contextualised', 'understandable', 'h reflect', 'm vulnerable', 'neutral', 'negative', 'expert', ' off-loading', 'm vulnerable ', 'in-depth', 'volume', 'volume ', 'relevance', 'specificity', 'h KHIG', 'b submission', 'speed', 'relational', 'h understand', 'ease', 'specificity ', 'h understand ', 'off-loading', 'relational ', 'utility', 'h kHIG', 'reliable ', 'negativity', 'a submission', 'positivity', ' neutral', 'importance', 'positive'}\n"
     ]
    }
   ],
   "source": [
    "# Get all columns that start with \"Characteristic\"\n",
    "characteristic_columns = [col for col in coding_data.columns if col.startswith('Characteristic')]\n",
    "\n",
    "# Extract all unique values from these columns into a set\n",
    "characteristic_values = set()\n",
    "\n",
    "for col in characteristic_columns:\n",
    "    # Get non-null values from the column\n",
    "    values = coding_data[col].dropna()\n",
    "    # Add each value to the set\n",
    "    characteristic_values.update(values)\n",
    "\n",
    "# Convert to sorted list for easier viewing\n",
    "characteristic_list = sorted(list(characteristic_values))\n",
    "\n",
    "print(f\"Found {len(characteristic_values)} unique characteristic values:\")\n",
    "print(characteristic_list)\n",
    "\n",
    "# If you want just the set:\n",
    "print(f\"\\nSet of characteristic values: {characteristic_values}\")\n"
   ]
  },
  {
   "cell_type": "code",
   "execution_count": 12,
   "id": "de18af9e",
   "metadata": {},
   "outputs": [
    {
     "data": {
      "text/plain": [
       "(26, 35)"
      ]
     },
     "execution_count": 12,
     "metadata": {},
     "output_type": "execute_result"
    }
   ],
   "source": [
    "len(characteristics), len(characteristic_values)"
   ]
  },
  {
   "cell_type": "markdown",
   "id": "b75c1824",
   "metadata": {},
   "source": [
    "There is unequal number of variables. Let's see if they share variables or not"
   ]
  },
  {
   "cell_type": "code",
   "execution_count": 13,
   "id": "68d952eb",
   "metadata": {},
   "outputs": [
    {
     "name": "stdout",
     "output_type": "stream",
     "text": [
      "Variables in characteristic_values but not in characteristics (35):\n",
      "[' neutral', ' off-loading', 'a submission', 'b submission', 'contextualised', 'ease', 'expert', 'h KHIG', 'h kHIG', 'h reflect', 'h understand', 'h understand ', 'importance', 'in-depth', 'm vulnerable', 'm vulnerable ', 'negative', 'negativity', 'neutral', 'objective', 'off-loading', 'positive', 'positivity', 'relational', 'relational ', 'relevance', 'reliable', 'reliable ', 'specificity', 'specificity ', 'speed', 'understandable', 'utility', 'volume', 'volume ']\n"
     ]
    }
   ],
   "source": [
    "# Find variables in characteristic_values that are not in characteristics\n",
    "not_in_characteristics = characteristic_values - set(characteristics)\n",
    "print(f\"Variables in characteristic_values but not in characteristics ({len(not_in_characteristics)}):\")\n",
    "print(sorted(list(not_in_characteristics)))\n"
   ]
  },
  {
   "cell_type": "code",
   "execution_count": 14,
   "id": "9bfd31b7",
   "metadata": {},
   "outputs": [
    {
     "data": {
      "text/plain": [
       "35"
      ]
     },
     "execution_count": 14,
     "metadata": {},
     "output_type": "execute_result"
    }
   ],
   "source": [
    "len(not_in_characteristics)"
   ]
  },
  {
   "cell_type": "code",
   "execution_count": 15,
   "id": "08a8cd52",
   "metadata": {},
   "outputs": [
    {
     "name": "stdout",
     "output_type": "stream",
     "text": [
      "['Ease', 'Speed', 'Volume', 'Before submission', 'After submission', 'Less effort', 'Understanding', 'Reflection', 'Progress', 'Specificity', 'In-depth', 'Understandable', 'Relevance', 'Contextualised', 'Utility', 'Reliable', 'Objective', 'Positivity', 'Negativity', 'Positive', 'Negative', 'No impact', 'Personal', 'Risky', 'Expert', 'Importance']\n",
      "{'reliable', 'objective', 'contextualised', 'understandable', 'h reflect', 'm vulnerable', 'neutral', 'negative', 'expert', ' off-loading', 'm vulnerable ', 'in-depth', 'volume', 'volume ', 'relevance', 'specificity', 'h KHIG', 'b submission', 'speed', 'relational', 'h understand', 'ease', 'specificity ', 'h understand ', 'off-loading', 'relational ', 'utility', 'h kHIG', 'reliable ', 'negativity', 'a submission', 'positivity', ' neutral', 'importance', 'positive'}\n"
     ]
    }
   ],
   "source": [
    "print(characteristics)\n",
    "print(characteristic_values)"
   ]
  },
  {
   "cell_type": "code",
   "execution_count": null,
   "id": "ae02e274",
   "metadata": {},
   "outputs": [],
   "source": [
    "# Manually create a dict matching each value from the second list (set) to the closest match in the first list\n",
    "\n",
    "characteristic_value_to_characteristic = {\n",
    "    'reliable': 'Reliable',\n",
    "    'reliable ': 'Reliable',\n",
    "    'objective': 'Objective',\n",
    "    'contextualised': 'Contextualised',\n",
    "    'understandable': 'Understandable',\n",
    "    'h reflect': 'Reflection',\n",
    "    'm vulnerable': 'Personal',\n",
    "    'm vulnerable ': 'Personal',\n",
    "    'neutral': 'No impact',\n",
    "    ' neutral': 'No impact',\n",
    "    'negative': 'Negative',\n",
    "    'negativity': 'Negativity',\n",
    "    'expert': 'Expert',\n",
    "    'off-loading': 'Less effort',\n",
    "    ' off-loading': 'Less effort',\n",
    "    'in-depth': 'In-depth',\n",
    "    'volume': 'Volume',\n",
    "    'volume ': 'Volume',\n",
    "    'relevance': 'Relevance',\n",
    "    'specificity': 'Specificity',\n",
    "    'specificity ': 'Specificity',\n",
    "    'h KHIG': 'Progress',\n",
    "    'h kHIG': 'Progress',\n",
    "    'b submission': 'Before submission',\n",
    "    'a submission': 'After submission',\n",
    "    'speed': 'Speed',\n",
    "    'relational': 'Personal',\n",
    "    'relational ': 'Personal',\n",
    "    'h understand': 'Understanding',\n",
    "    'h understand ': 'Understanding',\n",
    "    'ease': 'Ease',\n",
    "    'utility': 'Utility',\n",
    "    'positivity': 'Positivity',\n",
    "    'positive': 'Positive',\n",
    "    'importance': 'Importance',\n",
    "}"
   ]
  }
 ],
 "metadata": {
  "kernelspec": {
   "display_name": "quali_project",
   "language": "python",
   "name": "python3"
  },
  "language_info": {
   "codemirror_mode": {
    "name": "ipython",
    "version": 3
   },
   "file_extension": ".py",
   "mimetype": "text/x-python",
   "name": "python",
   "nbconvert_exporter": "python",
   "pygments_lexer": "ipython3",
   "version": "3.11.11"
  }
 },
 "nbformat": 4,
 "nbformat_minor": 5
}
