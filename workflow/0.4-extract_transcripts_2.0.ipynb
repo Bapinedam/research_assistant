{
 "cells": [
  {
   "cell_type": "code",
   "execution_count": 1,
   "id": "5b890995",
   "metadata": {},
   "outputs": [
    {
     "name": "stdout",
     "output_type": "stream",
     "text": [
      "Successfully loaded CODING table with 8847 rows and 59 columns\n",
      "Columns: ['ResponseId', 'Q37_feedback_on_work', 'Q38_1_feedback_helpful_AI', 'Q38_2_feedback_helpful_teacher', 'Q39_1_feedback_trust_AI', 'Q39_2_feedback_trust_teacher', 'Please describe any differences in how it impacted your learning (comparing GenAI and your teacher)?', 'Good Quote', 'Actor', 'Comparator', 'Characteristic', 'Actor.1', 'Comparator.1', 'Characteristic.1', 'Actor.2', 'Comparator.2', 'Characteristic.2', 'Actor.3', 'Comparator.3', 'Characteristic.3', 'Actor.4', 'Comparator.4', 'Characteristic.4', 'Actor.5', 'Comparator.5', 'Characteristic.5', 'Were there any differences in how the feedback made you feel (comparing GenAI and your teacher)?', 'Good Quote.1', 'Actor.6', 'Comparator.6', 'Characteristic.6', 'Actor.7', 'Comparator.7', 'Characteristic.7', 'Actor.8', 'Comparator.8', 'Characteristic.8', 'Actor.9', 'Comparator.9', 'Characteristic.9', 'Describe any other differences between the feedback you received from GenAI and your teacher.', 'Good Quote.2', 'Actor.10', 'Comparator.10', 'Characteristic.10', 'Actor.11', 'Comparator.11', 'Characteristic.11', 'Actor.12', 'Comparator.12', 'Characteristic.12', 'Actor.13', 'Comparator.13', 'Characteristic.13', 'Why didn’t you use GenAI for feedback on your work?', 'Good quote', 'Reason 1', 'Reason 2', 'Reason 3']\n"
     ]
    }
   ],
   "source": [
    "import pandas as pd\n",
    "import os\n",
    "\n",
    "def load_coding_table():\n",
    "    \"\"\"\n",
    "    Load the CODING sheet from the codebook.xlsx file into a pandas DataFrame.\n",
    "    \n",
    "    Returns:\n",
    "        pandas.DataFrame: The coding table from the CODING sheet\n",
    "    \"\"\"\n",
    "    # Define the path to the Excel file\n",
    "    excel_path = os.path.join(\"..\", \"Data\", \"codebook.xlsx\")\n",
    "    \n",
    "    try:\n",
    "        # Read the CODING sheet from the Excel file\n",
    "        coding_table = pd.read_excel(excel_path, sheet_name=\"CODING\")\n",
    "        \n",
    "        print(f\"Successfully loaded CODING table with {len(coding_table)} rows and {len(coding_table.columns)} columns\")\n",
    "        print(f\"Columns: {list(coding_table.columns)}\")\n",
    "        \n",
    "        return coding_table\n",
    "    \n",
    "    except FileNotFoundError:\n",
    "        print(f\"Error: File not found at {excel_path}\")\n",
    "        return None\n",
    "    except Exception as e:\n",
    "        print(f\"Error reading Excel file: {str(e)}\")\n",
    "        return None\n",
    "\n",
    "# Alternative function if you want to specify a custom path\n",
    "def load_coding_table_from_path(file_path):\n",
    "    \"\"\"\n",
    "    Load the CODING sheet from a specified Excel file path.\n",
    "    \n",
    "    Args:\n",
    "        file_path (str): Path to the Excel file\n",
    "        \n",
    "    Returns:\n",
    "        pandas.DataFrame: The coding table from the CODING sheet\n",
    "    \"\"\"\n",
    "    try:\n",
    "        # Read the CODING sheet from the Excel file\n",
    "        coding_table = pd.read_excel(file_path, sheet_name=\"CODING\")\n",
    "        \n",
    "        print(f\"Successfully loaded CODING table with {len(coding_table)} rows and {len(coding_table.columns)} columns\")\n",
    "        print(f\"Columns: {list(coding_table.columns)}\")\n",
    "        \n",
    "        return coding_table\n",
    "    \n",
    "    except FileNotFoundError:\n",
    "        print(f\"Error: File not found at {file_path}\")\n",
    "        return None\n",
    "    except Exception as e:\n",
    "        print(f\"Error reading Excel file: {str(e)}\")\n",
    "        return None\n",
    "\n",
    "\n",
    "coding_data = load_coding_table()"
   ]
  },
  {
   "cell_type": "markdown",
   "id": "789a9d00",
   "metadata": {},
   "source": [
    "Let's do a list of the valids caractheristics and reasons"
   ]
  },
  {
   "cell_type": "code",
   "execution_count": 2,
   "id": "da3ca50d",
   "metadata": {},
   "outputs": [],
   "source": [
    "characteristics = [\n",
    "    \"Ease\",\n",
    "    \"Speed\", \n",
    "    \"Volume\",\n",
    "    \"Before submission\",\n",
    "    \"After submission\",\n",
    "    \"Less effort\",\n",
    "    \"Understanding\",\n",
    "    \"Reflection\",\n",
    "    \"Progress\",\n",
    "    \"Specificity\",\n",
    "    \"In-depth\",\n",
    "    \"Understandable\",\n",
    "    \"Relevance\",\n",
    "    \"Contextualised\",\n",
    "    \"Utility\",\n",
    "    \"Reliable\",\n",
    "    \"Objective\",\n",
    "    \"Positivity\",\n",
    "    \"Negativity\",\n",
    "    \"Positive\",\n",
    "    \"Negative\",\n",
    "    \"No impact\",\n",
    "    \"Personal\",\n",
    "    \"Risky\",\n",
    "    \"Expert\",\n",
    "    \"Importance\"\n",
    "]\n",
    "\n",
    "reasons = [\n",
    "    \"Unaware\",\n",
    "    \"Effortful\", \n",
    "    \"Less effort\",\n",
    "    \"Specificity\",\n",
    "    \"In-depth\",\n",
    "    \"Contextualised\",\n",
    "    \"Utility\",\n",
    "    \"Trustworthy\",\n",
    "    \"Positivity\",\n",
    "    \"Personal\",\n",
    "    \"Expert\",\n",
    "    \"Preference\",\n",
    "    \"Need\",\n",
    "    \"Unsustainable\",\n",
    "    \"Privacy\",\n",
    "]\n"
   ]
  },
  {
   "cell_type": "markdown",
   "id": "824725c0",
   "metadata": {},
   "source": [
    "Now, let's see if all the characteristics in the codebook match with this in the lists"
   ]
  },
  {
   "cell_type": "code",
   "execution_count": 3,
   "id": "635971ca",
   "metadata": {},
   "outputs": [
    {
     "name": "stdout",
     "output_type": "stream",
     "text": [
      "Found 35 unique characteristic values:\n",
      "[' neutral', ' off-loading', 'a submission', 'b submission', 'contextualised', 'ease', 'expert', 'h KHIG', 'h kHIG', 'h reflect', 'h understand', 'h understand ', 'importance', 'in-depth', 'm vulnerable', 'm vulnerable ', 'negative', 'negativity', 'neutral', 'objective', 'off-loading', 'positive', 'positivity', 'relational', 'relational ', 'relevance', 'reliable', 'reliable ', 'specificity', 'specificity ', 'speed', 'understandable', 'utility', 'volume', 'volume ']\n",
      "\n",
      "Set of characteristic values: {'volume ', 'a submission', 'importance', ' off-loading', 'specificity ', 'h kHIG', 'contextualised', 'off-loading', 'positive', 'negativity', 'ease', 'expert', 'm vulnerable ', 'h understand', 'reliable ', 'h reflect', ' neutral', 'in-depth', 'neutral', 'negative', 'objective', 'volume', 'reliable', 'h KHIG', 'relevance', 'positivity', 'specificity', 'b submission', 'h understand ', 'speed', 'relational', 'utility', 'm vulnerable', 'understandable', 'relational '}\n"
     ]
    }
   ],
   "source": [
    "# Get all columns that start with \"Characteristic\"\n",
    "characteristic_columns = [col for col in coding_data.columns if col.startswith('Characteristic')]\n",
    "\n",
    "# Extract all unique values from these columns into a set\n",
    "characteristic_values = set()\n",
    "\n",
    "for col in characteristic_columns:\n",
    "    # Get non-null values from the column\n",
    "    values = coding_data[col].dropna()\n",
    "    # Add each value to the set\n",
    "    characteristic_values.update(values)\n",
    "\n",
    "# Convert to sorted list for easier viewing\n",
    "characteristic_list = sorted(list(characteristic_values))\n",
    "\n",
    "print(f\"Found {len(characteristic_values)} unique characteristic values:\")\n",
    "print(characteristic_list)\n",
    "\n",
    "# If you want just the set:\n",
    "print(f\"\\nSet of characteristic values: {characteristic_values}\")\n"
   ]
  },
  {
   "cell_type": "code",
   "execution_count": 4,
   "id": "de18af9e",
   "metadata": {},
   "outputs": [
    {
     "data": {
      "text/plain": [
       "(26, 35)"
      ]
     },
     "execution_count": 4,
     "metadata": {},
     "output_type": "execute_result"
    }
   ],
   "source": [
    "len(characteristics), len(characteristic_values)"
   ]
  },
  {
   "cell_type": "markdown",
   "id": "b75c1824",
   "metadata": {},
   "source": [
    "There is unequal number of variables. Let's see if they share variables or not"
   ]
  },
  {
   "cell_type": "code",
   "execution_count": 5,
   "id": "68d952eb",
   "metadata": {},
   "outputs": [
    {
     "name": "stdout",
     "output_type": "stream",
     "text": [
      "Variables in characteristic_values but not in characteristics (35):\n",
      "[' neutral', ' off-loading', 'a submission', 'b submission', 'contextualised', 'ease', 'expert', 'h KHIG', 'h kHIG', 'h reflect', 'h understand', 'h understand ', 'importance', 'in-depth', 'm vulnerable', 'm vulnerable ', 'negative', 'negativity', 'neutral', 'objective', 'off-loading', 'positive', 'positivity', 'relational', 'relational ', 'relevance', 'reliable', 'reliable ', 'specificity', 'specificity ', 'speed', 'understandable', 'utility', 'volume', 'volume ']\n"
     ]
    }
   ],
   "source": [
    "# Find variables in characteristic_values that are not in characteristics\n",
    "not_in_characteristics = characteristic_values - set(characteristics)\n",
    "print(f\"Variables in characteristic_values but not in characteristics ({len(not_in_characteristics)}):\")\n",
    "print(sorted(list(not_in_characteristics)))\n"
   ]
  },
  {
   "cell_type": "code",
   "execution_count": 6,
   "id": "9bfd31b7",
   "metadata": {},
   "outputs": [
    {
     "data": {
      "text/plain": [
       "35"
      ]
     },
     "execution_count": 6,
     "metadata": {},
     "output_type": "execute_result"
    }
   ],
   "source": [
    "len(not_in_characteristics)"
   ]
  },
  {
   "cell_type": "code",
   "execution_count": 7,
   "id": "08a8cd52",
   "metadata": {},
   "outputs": [
    {
     "name": "stdout",
     "output_type": "stream",
     "text": [
      "['Ease', 'Speed', 'Volume', 'Before submission', 'After submission', 'Less effort', 'Understanding', 'Reflection', 'Progress', 'Specificity', 'In-depth', 'Understandable', 'Relevance', 'Contextualised', 'Utility', 'Reliable', 'Objective', 'Positivity', 'Negativity', 'Positive', 'Negative', 'No impact', 'Personal', 'Risky', 'Expert', 'Importance']\n",
      "{'volume ', 'a submission', 'importance', ' off-loading', 'specificity ', 'h kHIG', 'contextualised', 'off-loading', 'positive', 'negativity', 'ease', 'expert', 'm vulnerable ', 'h understand', 'reliable ', 'h reflect', ' neutral', 'in-depth', 'neutral', 'negative', 'objective', 'volume', 'reliable', 'h KHIG', 'relevance', 'positivity', 'specificity', 'b submission', 'h understand ', 'speed', 'relational', 'utility', 'm vulnerable', 'understandable', 'relational '}\n"
     ]
    }
   ],
   "source": [
    "print(characteristics)\n",
    "print(characteristic_values)"
   ]
  },
  {
   "cell_type": "code",
   "execution_count": 8,
   "id": "ae02e274",
   "metadata": {},
   "outputs": [],
   "source": [
    "# Manually create a dict matching each value from the second list (set) to the closest match in the first list\n",
    "\n",
    "characteristic_value_to_characteristic = {\n",
    "    'reliable': 'Reliable',\n",
    "    'reliable ': 'Reliable',\n",
    "    'objective': 'Objective',\n",
    "    'contextualised': 'Contextualised',\n",
    "    'understandable': 'Understandable',\n",
    "    'h reflect': 'Reflection',\n",
    "    'm vulnerable': 'Risky',\n",
    "    'm vulnerable ': 'Risky',\n",
    "    'neutral': 'No impact',\n",
    "    ' neutral': 'No impact',\n",
    "    'negative': 'Negative',\n",
    "    'negativity': 'Negativity',\n",
    "    'expert': 'Expert',\n",
    "    'off-loading': 'Less effort',\n",
    "    ' off-loading': 'Less effort',\n",
    "    'in-depth': 'In-depth',\n",
    "    'volume': 'Volume',\n",
    "    'volume ': 'Volume',\n",
    "    'relevance': 'Relevance',\n",
    "    'specificity': 'Specificity',\n",
    "    'specificity ': 'Specificity',\n",
    "    'h KHIG': 'Progress',\n",
    "    'h kHIG': 'Progress',\n",
    "    'b submission': 'Before submission',\n",
    "    'a submission': 'After submission',\n",
    "    'speed': 'Speed',\n",
    "    'relational': 'Personal', # Relational is the theme or subtheme\n",
    "    'relational ': 'Personal',\n",
    "    'h understand': 'Understanding',\n",
    "    'h understand ': 'Understanding', \n",
    "    'ease': 'Ease',\n",
    "    'utility': 'Utility',\n",
    "    'positivity': 'Positivity',\n",
    "    'positive': 'Positive',\n",
    "    'importance': 'Importance',\n",
    "}"
   ]
  },
  {
   "cell_type": "code",
   "execution_count": 9,
   "id": "00cc7fc3",
   "metadata": {},
   "outputs": [],
   "source": [
    "clean_coding_data = coding_data.copy()\n",
    "\n",
    "# Get columns that start with 'Characteristic'\n",
    "characteristic_cols = [col for col in clean_coding_data.columns if col.startswith('Characteristic')]\n",
    "\n",
    "# Replace values in those columns using the mapping dictionary\n",
    "for col in characteristic_cols:\n",
    "    clean_coding_data[col] = clean_coding_data[col].map(characteristic_value_to_characteristic)\n"
   ]
  },
  {
   "cell_type": "code",
   "execution_count": 10,
   "id": "f2d4fd0e",
   "metadata": {},
   "outputs": [
    {
     "name": "stdout",
     "output_type": "stream",
     "text": [
      "26\n",
      "26\n",
      "All characteristics found in data: ['After submission', 'Before submission', 'Contextualised', 'Ease', 'Expert', 'Importance', 'In-depth', 'Less effort', 'Negative', 'Negativity', 'No impact', 'Objective', 'Personal', 'Positive', 'Positivity', 'Progress', 'Reflection', 'Relevance', 'Reliable', 'Risky', 'Specificity', 'Speed', 'Understandable', 'Understanding', 'Utility', 'Volume']\n",
      "\n",
      "All characteristics from mapping: ['After submission', 'Before submission', 'Contextualised', 'Ease', 'Expert', 'Importance', 'In-depth', 'Less effort', 'Negative', 'Negativity', 'No impact', 'Objective', 'Personal', 'Positive', 'Positivity', 'Progress', 'Reflection', 'Relevance', 'Reliable', 'Risky', 'Specificity', 'Speed', 'Understandable', 'Understanding', 'Utility', 'Volume']\n",
      "\n",
      "Are they identical? True\n"
     ]
    }
   ],
   "source": [
    "# Get all unique characteristics after mapping\n",
    "all_characteristics = set()\n",
    "for col in characteristic_cols:\n",
    "    all_characteristics.update(clean_coding_data[col].dropna().unique())\n",
    "print(len(all_characteristics))\n",
    "\n",
    "# Our list of correct characteristics\n",
    "correct_characteristics = set(characteristic_value_to_characteristic.values())\n",
    "print(len(correct_characteristics))\n",
    "\n",
    "# Check if they match\n",
    "print(\"All characteristics found in data:\", sorted(all_characteristics))\n",
    "print(\"\\nAll characteristics from mapping:\", sorted(correct_characteristics))\n",
    "print(\"\\nAre they identical?\", all_characteristics == correct_characteristics)\n"
   ]
  },
  {
   "cell_type": "code",
   "execution_count": 11,
   "id": "12ad4d88",
   "metadata": {},
   "outputs": [
    {
     "name": "stdout",
     "output_type": "stream",
     "text": [
      "Frequency of each characteristic:\n",
      "Reliable             1143\n",
      "Specificity          1118\n",
      "Ease                  875\n",
      "Contextualised        669\n",
      "Speed                 614\n",
      "Utility               590\n",
      "Personal              471\n",
      "Understanding         313\n",
      "Risky                 306\n",
      "Volume                304\n",
      "Understandable        297\n",
      "In-depth              254\n",
      "Positive              247\n",
      "Objective             198\n",
      "Positivity            188\n",
      "Importance            124\n",
      "Relevance             123\n",
      "Expert                119\n",
      "No impact             115\n",
      "Negative              109\n",
      "Reflection             86\n",
      "Negativity             80\n",
      "Less effort            59\n",
      "After submission       45\n",
      "Before submission      31\n",
      "Progress               20\n",
      "dtype: int64\n"
     ]
    }
   ],
   "source": [
    "# Count occurrences of each characteristic across all characteristic columns\n",
    "characteristic_counts = {}\n",
    "\n",
    "for col in characteristic_cols:\n",
    "    # Count values in this column\n",
    "    counts = clean_coding_data[col].value_counts()\n",
    "    \n",
    "    # Add these counts to our running totals\n",
    "    for char, count in counts.items():\n",
    "        if char in characteristic_counts:\n",
    "            characteristic_counts[char] += count\n",
    "        else:\n",
    "            characteristic_counts[char] = count\n",
    "\n",
    "# Convert to Series for nicer display and sort by frequency\n",
    "char_freq = pd.Series(characteristic_counts).sort_values(ascending=False)\n",
    "\n",
    "print(\"Frequency of each characteristic:\")\n",
    "print(char_freq)\n"
   ]
  },
  {
   "cell_type": "markdown",
   "id": "a29064d9",
   "metadata": {},
   "source": [
    "Let's do the same normalisation with the reasons"
   ]
  },
  {
   "cell_type": "code",
   "execution_count": 12,
   "id": "49b90a29",
   "metadata": {},
   "outputs": [
    {
     "name": "stdout",
     "output_type": "stream",
     "text": [
      "Number of unique reasons in data: 32\n",
      "Number of reasons in predefined list: 15\n",
      "\n",
      "All reasons found in data: ['Context', 'Expert', 'In-depth', 'Integrity', 'NIL', 'Nil', 'Positivity', 'Preference', 'Privacy', 'Relational', 'Trust', 'Unaware', 'Unsustainable', 'Utility', 'context', 'effort', 'expert', 'in-depth', 'integrity', 'need', 'nil', 'off-loading', 'positivity', 'preference', 'privacy', 'relational', 'specificity', 'trust', 'trust ', 'unaware', 'unsustainable', 'utility']\n",
      "\n",
      "All reasons from predefined list: ['Contextualised', 'Effortful', 'Expert', 'In-depth', 'Less effort', 'Need', 'Personal', 'Positivity', 'Preference', 'Privacy', 'Specificity', 'Trustworthy', 'Unaware', 'Unsustainable', 'Utility']\n",
      "\n",
      "Are they identical? False\n"
     ]
    }
   ],
   "source": [
    "# Let's extract and compare reasons\n",
    "\n",
    "# Get reason columns\n",
    "reason_cols = [col for col in clean_coding_data.columns if col.startswith('Reason')]\n",
    "\n",
    "# Get all unique reasons from the data\n",
    "all_reasons = set()\n",
    "for col in reason_cols:\n",
    "    all_reasons.update(clean_coding_data[col].dropna().unique())\n",
    "print(\"Number of unique reasons in data:\", len(all_reasons))\n",
    "\n",
    "# Compare with our predefined list of reasons\n",
    "print(\"Number of reasons in predefined list:\", len(reasons))\n",
    "\n",
    "# Compare the sets\n",
    "print(\"\\nAll reasons found in data:\", sorted(all_reasons))\n",
    "print(\"\\nAll reasons from predefined list:\", sorted(reasons))\n",
    "print(\"\\nAre they identical?\", all_reasons == reasons)"
   ]
  },
  {
   "cell_type": "code",
   "execution_count": 13,
   "id": "edb12fbc",
   "metadata": {},
   "outputs": [],
   "source": [
    "reason_mapping = {\n",
    "    'Context': 'Contextualised',\n",
    "    'context': 'Contextualised',\n",
    "    'Expert': 'Expert',\n",
    "    'expert': 'Expert',\n",
    "    'In-depth': 'In-depth',\n",
    "    'in-depth': 'In-depth',\n",
    "    'Integrity': 'Integrity',\n",
    "    'integrity': 'Integrity',\n",
    "    'NIL': 'Unaware',\n",
    "    'Nil': 'Unaware',\n",
    "    'nil': 'Unaware',\n",
    "    'Positivity': 'Positivity',\n",
    "    'positivity': 'Positivity',\n",
    "    'Preference': 'Preference',\n",
    "    'preference': 'Preference',\n",
    "    'Privacy': 'Privacy',\n",
    "    'privacy': 'Privacy',\n",
    "    'Relational': 'Personal',\n",
    "    'relational': 'Personal',\n",
    "    'Trust': 'Trustworthy',\n",
    "    'trust': 'Trustworthy',\n",
    "    'trust ': 'Trustworthy',\n",
    "    'Unaware': 'Unaware',\n",
    "    'unaware': 'Unaware',\n",
    "    'Unsustainable': 'Unsustainable',\n",
    "    'unsustainable': 'Unsustainable',\n",
    "    'Utility': 'Utility',\n",
    "    'utility': 'Utility',\n",
    "    'effort': 'Effortful',\n",
    "    'off-loading': 'Less effort',\n",
    "    'need': 'Need',\n",
    "    'specificity': 'Specificity'\n",
    "}"
   ]
  },
  {
   "cell_type": "code",
   "execution_count": 14,
   "id": "46697bbb",
   "metadata": {},
   "outputs": [],
   "source": [
    "# Replace values in Reason columns using the mapping dictionary\n",
    "reason_columns = [col for col in clean_coding_data.columns if col.startswith('Reason')]\n",
    "\n",
    "for col in reason_columns:\n",
    "    clean_coding_data[col] = clean_coding_data[col].map(reason_mapping)\n",
    "\n"
   ]
  },
  {
   "cell_type": "code",
   "execution_count": 15,
   "id": "93531e1e",
   "metadata": {},
   "outputs": [
    {
     "name": "stdout",
     "output_type": "stream",
     "text": [
      "16\n",
      "16\n",
      "All reasons found in data: ['Contextualised', 'Effortful', 'Expert', 'In-depth', 'Integrity', 'Less effort', 'Need', 'Personal', 'Positivity', 'Preference', 'Privacy', 'Specificity', 'Trustworthy', 'Unaware', 'Unsustainable', 'Utility']\n",
      "\n",
      "All reasons from mapping: ['Contextualised', 'Effortful', 'Expert', 'In-depth', 'Integrity', 'Less effort', 'Need', 'Personal', 'Positivity', 'Preference', 'Privacy', 'Specificity', 'Trustworthy', 'Unaware', 'Unsustainable', 'Utility']\n",
      "\n",
      "Are they identical? True\n"
     ]
    }
   ],
   "source": [
    "# Get all unique reasons after mapping\n",
    "all_reasons = set()\n",
    "for col in reason_columns:\n",
    "    all_reasons.update(clean_coding_data[col].dropna().unique())\n",
    "print(len(all_reasons))\n",
    "\n",
    "# Our list of correct reasons\n",
    "correct_reasons = set(reason_mapping.values())\n",
    "print(len(correct_reasons))\n",
    "\n",
    "# Check if they match\n",
    "print(\"All reasons found in data:\", sorted(all_reasons))\n",
    "print(\"\\nAll reasons from mapping:\", sorted(correct_reasons))\n",
    "print(\"\\nAre they identical?\", all_reasons == correct_reasons)\n"
   ]
  },
  {
   "cell_type": "code",
   "execution_count": 16,
   "id": "c6e6231b",
   "metadata": {},
   "outputs": [
    {
     "name": "stdout",
     "output_type": "stream",
     "text": [
      "Frequency of each reason:\n",
      "Unaware           1043.0\n",
      "Trustworthy        976.0\n",
      "Integrity          310.0\n",
      "Contextualised     225.0\n",
      "Need               214.0\n",
      "Personal           204.0\n",
      "Expert             155.0\n",
      "Preference         145.0\n",
      "Privacy             93.0\n",
      "Utility             40.0\n",
      "In-depth            32.0\n",
      "Effortful           24.0\n",
      "Less effort         18.0\n",
      "Unsustainable        5.0\n",
      "Specificity          4.0\n",
      "Positivity           3.0\n",
      "dtype: object\n"
     ]
    }
   ],
   "source": [
    "# Count occurrences of each reason across all reason columns\n",
    "reason_counts = pd.Series()\n",
    "for col in reason_columns:\n",
    "    reason_counts = reason_counts.add(clean_coding_data[col].value_counts(), fill_value=0)\n",
    "\n",
    "# Sort in descending order and display\n",
    "print(\"Frequency of each reason:\")\n",
    "print(reason_counts.sort_values(ascending=False))\n"
   ]
  },
  {
   "cell_type": "markdown",
   "id": "78978655",
   "metadata": {},
   "source": [
    "## Transformation"
   ]
  },
  {
   "cell_type": "code",
   "execution_count": 17,
   "id": "5a4b2c3d",
   "metadata": {},
   "outputs": [
    {
     "data": {
      "text/plain": [
       "{'ResponseId': 'R_4ksNFrS9UmgYiAd',\n",
       " 'Q37_feedback_on_work': 1,\n",
       " 'Q38_1_feedback_helpful_AI': 4,\n",
       " 'Q38_2_feedback_helpful_teacher': 5,\n",
       " 'Q39_1_feedback_trust_AI': 3,\n",
       " 'Q39_2_feedback_trust_teacher': 5,\n",
       " 'Question 40': {'Question': 'Please describe any differences in how it impacted your learning (comparing GenAI and your teacher)?',\n",
       "  'Response': 'GENAI does not have the nuance, it is broad and it is also a people pleaser',\n",
       "  'GoodQuote': '',\n",
       "  'Codes': [{'Actor': 'A', 'Comparator': 'less', 'Characteristic': 'In-depth'},\n",
       "   {'Actor': 'A', 'Comparator': 'more', 'Characteristic': 'Posivity'}]},\n",
       " 'Question 41': {'Question': 'Were there any differences in how the feedback made you feel (comparing GenAI and your teacher)?',\n",
       "  'Response': 'GGetting feedback from GENAI makes me feel nothing. I know it is AI working off Machine learning based on what it has learnt before. Furthermore, it is programmed it a certain way.',\n",
       "  'GoodQuote': '',\n",
       "  'Codes': [{'Actor': 'A',\n",
       "    'Comparator': 'less',\n",
       "    'Characteristic': 'No impact'}]},\n",
       " 'Question 42': {'Question': 'Describe any other differences between the feedback you received from GenAI and your teacher.',\n",
       "  'Response': 'Genai is easier to get but teacher more reliable',\n",
       "  'GoodQuote': '',\n",
       "  'Codes': [{'Actor': 'A', 'Comparator': 'more', 'Characteristic': 'Ease'},\n",
       "   {'Actor': 'T', 'Comparator': 'more', 'Characteristic': 'Reliable'}]},\n",
       " 'Question 43': {'Question': 'Why didn’t you use GenAI for feedback on your work?',\n",
       "  'Response': \"I don't trust it, I would rather use the universities resources such as student helpers.\",\n",
       "  'GoodQuote': '',\n",
       "  'Reasons': ['Unaware', 'Effortful']}}"
      ]
     },
     "execution_count": 17,
     "metadata": {},
     "output_type": "execute_result"
    }
   ],
   "source": [
    "{\n",
    "    \"ResponseId\": \"R_4ksNFrS9UmgYiAd\",\n",
    "    \"Q37_feedback_on_work\": 1,\n",
    "    \"Q38_1_feedback_helpful_AI\": 4,\n",
    "    \"Q38_2_feedback_helpful_teacher\": 5,\n",
    "    \"Q39_1_feedback_trust_AI\": 3,\n",
    "    \"Q39_2_feedback_trust_teacher\": 5,\n",
    "    \"Question 40\": {\n",
    "        \"Question\": \"Please describe any differences in how it impacted your learning (comparing GenAI and your teacher)?\",\n",
    "        \"Response\": \"GENAI does not have the nuance, it is broad and it is also a people pleaser\",\n",
    "        \"GoodQuote\": \"\",\n",
    "        \"Codes\": [\n",
    "            {\n",
    "                \"Actor\": \"A\", \n",
    "                \"Comparator\": \"less\", \n",
    "                \"Characteristic\": \"In-depth\"\n",
    "             },\n",
    "            {\n",
    "                \"Actor\": \"A\", \n",
    "                \"Comparator\": \"more\",\n",
    "                \"Characteristic\": \"Posivity\"\n",
    "             }\n",
    "        ]\n",
    "    },\n",
    "    \"Question 41\": {\n",
    "        \"Question\": \"Were there any differences in how the feedback made you feel (comparing GenAI and your teacher)?\",\n",
    "        \"Response\": \"GGetting feedback from GENAI makes me feel nothing. I know it is AI working off Machine learning based on what it has learnt before. Furthermore, it is programmed it a certain way.\",\n",
    "        \"GoodQuote\": \"\",\n",
    "        \"Codes\": [\n",
    "            {\n",
    "                \"Actor\": \"A\", \n",
    "                \"Comparator\": \"less\", \n",
    "                \"Characteristic\": \"No impact\"\n",
    "             }\n",
    "        ]\n",
    "    },\n",
    "    \"Question 42\": {\n",
    "        \"Question\": \"Describe any other differences between the feedback you received from GenAI and your teacher.\",\n",
    "        \"Response\": \"Genai is easier to get but teacher more reliable\",\n",
    "        \"GoodQuote\": \"\",\n",
    "        \"Codes\": [\n",
    "            {\n",
    "                \"Actor\": \"A\", \n",
    "                \"Comparator\": \"more\", \n",
    "                \"Characteristic\": \"Ease\"\n",
    "             },\n",
    "            {\n",
    "                \"Actor\": \"T\", \n",
    "                \"Comparator\": \"more\", \n",
    "                \"Characteristic\": \"Reliable\"\n",
    "             }\n",
    "        ]\n",
    "    },\n",
    "    \"Question 43\": {\n",
    "        \"Question\": \"Why didn’t you use GenAI for feedback on your work?\",\n",
    "        \"Response\": \"I don't trust it, I would rather use the universities resources such as student helpers.\",\n",
    "        \"GoodQuote\": \"\",\n",
    "        \"Reasons\": [\n",
    "            \"Unaware\",\n",
    "            \"Effortful\",\n",
    "        ]\n",
    "    }\n",
    "}"
   ]
  },
  {
   "cell_type": "code",
   "execution_count": 18,
   "id": "93066f14",
   "metadata": {},
   "outputs": [
    {
     "data": {
      "text/plain": [
       "Index(['ResponseId', 'Q37_feedback_on_work', 'Q38_1_feedback_helpful_AI',\n",
       "       'Q38_2_feedback_helpful_teacher', 'Q39_1_feedback_trust_AI',\n",
       "       'Q39_2_feedback_trust_teacher',\n",
       "       'Please describe any differences in how it impacted your learning (comparing GenAI and your teacher)?',\n",
       "       'Good Quote', 'Actor', 'Comparator', 'Characteristic', 'Actor.1',\n",
       "       'Comparator.1', 'Characteristic.1', 'Actor.2', 'Comparator.2',\n",
       "       'Characteristic.2', 'Actor.3', 'Comparator.3', 'Characteristic.3',\n",
       "       'Actor.4', 'Comparator.4', 'Characteristic.4', 'Actor.5',\n",
       "       'Comparator.5', 'Characteristic.5',\n",
       "       'Were there any differences in how the feedback made you feel (comparing GenAI and your teacher)?',\n",
       "       'Good Quote.1', 'Actor.6', 'Comparator.6', 'Characteristic.6',\n",
       "       'Actor.7', 'Comparator.7', 'Characteristic.7', 'Actor.8',\n",
       "       'Comparator.8', 'Characteristic.8', 'Actor.9', 'Comparator.9',\n",
       "       'Characteristic.9',\n",
       "       'Describe any other differences between the feedback you received from GenAI and your teacher.',\n",
       "       'Good Quote.2', 'Actor.10', 'Comparator.10', 'Characteristic.10',\n",
       "       'Actor.11', 'Comparator.11', 'Characteristic.11', 'Actor.12',\n",
       "       'Comparator.12', 'Characteristic.12', 'Actor.13', 'Comparator.13',\n",
       "       'Characteristic.13',\n",
       "       'Why didn’t you use GenAI for feedback on your work?', 'Good quote',\n",
       "       'Reason 1', 'Reason 2', 'Reason 3'],\n",
       "      dtype='object')"
      ]
     },
     "execution_count": 18,
     "metadata": {},
     "output_type": "execute_result"
    }
   ],
   "source": [
    "clean_coding_data.columns\n"
   ]
  },
  {
   "cell_type": "code",
   "execution_count": 19,
   "id": "e41d4745",
   "metadata": {},
   "outputs": [],
   "source": [
    "import json\n",
    "from pathlib import Path\n",
    "import pandas as pd\n",
    "\n",
    "# ---------- helpers ----------\n",
    "def is_filled(x):\n",
    "    if pd.isna(x): return False\n",
    "    if isinstance(x, str): return x.strip() != \"\"\n",
    "    return True\n",
    "\n",
    "def get_stripped(x):\n",
    "    if not is_filled(x): return None\n",
    "    return str(x).strip()\n",
    "\n",
    "def add_if_numeric(out: dict, row: pd.Series, col: str):\n",
    "    \"\"\"If row[col] exists and is numeric-like, store as int; else store stripped string.\"\"\"\n",
    "    val = row.get(col)\n",
    "    if not is_filled(val):\n",
    "        return\n",
    "    try:\n",
    "        out[col] = int(float(val))\n",
    "    except Exception:\n",
    "        s = str(val).strip()\n",
    "        if s != \"\":\n",
    "            out[col] = s\n",
    "\n",
    "def collect_codes(row, ranges):\n",
    "    codes = []\n",
    "    for a_col, c_col, ch_col in ranges:\n",
    "        a = get_stripped(row.get(a_col))\n",
    "        c = get_stripped(row.get(c_col))\n",
    "        ch = get_stripped(row.get(ch_col))\n",
    "        if any([a, c, ch]):\n",
    "            code = {}\n",
    "            if a:  code[\"Actor\"] = a\n",
    "            if c:  code[\"Comparator\"] = c\n",
    "            if ch: code[\"Characteristic\"] = ch\n",
    "            codes.append(code)\n",
    "    return codes\n",
    "\n",
    "# ---------- main ----------\n",
    "def export_survey_rows_to_json(df: pd.DataFrame, out_dir=\"survey_results\"):\n",
    "    out_path = Path(out_dir)\n",
    "    out_path.mkdir(parents=True, exist_ok=True)\n",
    "\n",
    "    # Q groups / columns\n",
    "    q40_q = \"Please describe any differences in how it impacted your learning (comparing GenAI and your teacher)?\"\n",
    "    q40_quote = \"Good Quote\"\n",
    "    q40_ranges = [(\"Actor\", \"Comparator\", \"Characteristic\")] + [\n",
    "        (f\"Actor.{i}\", f\"Comparator.{i}\", f\"Characteristic.{i}\") for i in range(1, 6)\n",
    "    ]\n",
    "\n",
    "    q41_q = \"Were there any differences in how the feedback made you feel (comparing GenAI and your teacher)?\"\n",
    "    q41_quote = \"Good Quote.1\"\n",
    "    q41_ranges = [(f\"Actor.{i}\", f\"Comparator.{i}\", f\"Characteristic.{i}\") for i in range(6, 10)]\n",
    "\n",
    "    q42_q = \"Describe any other differences between the feedback you received from GenAI and your teacher.\"\n",
    "    q42_quote = \"Good Quote.2\"\n",
    "    # Note: \"Characteristic 11\" (with a space) per your schema\n",
    "    q42_ranges = [(f\"Actor.{i}\", f\"Comparator.{i}\", f\"Characteristic.{i}\") for i in range(10, 14)]\n",
    "\n",
    "    q43_q = \"Why didn’t you use GenAI for feedback on your work?\"\n",
    "    q43_quote = \"Good quote\"\n",
    "    q43_reasons = [\"Reason 1\", \"Reason 2\", \"Reason 3\"]\n",
    "\n",
    "    numeric_cols = [\n",
    "        \"Q37_feedback_on_work\",\n",
    "        \"Q38_1_feedback_helpful_AI\",\n",
    "        \"Q38_2_feedback_helpful_teacher\",\n",
    "        \"Q39_1_feedback_trust_AI\",\n",
    "        \"Q39_2_feedback_trust_teacher\",\n",
    "    ]\n",
    "\n",
    "    written_files = []\n",
    "\n",
    "    for _, row in df.iterrows():\n",
    "        rid = get_stripped(row.get(\"ResponseId\"))\n",
    "        if not rid:\n",
    "            continue\n",
    "\n",
    "        out = {\"ResponseId\": rid}\n",
    "\n",
    "        # Add numeric / scalar fields\n",
    "        for col in numeric_cols:\n",
    "            add_if_numeric(out, row, col)\n",
    "\n",
    "        # Q40\n",
    "        q40_ans = get_stripped(row.get(q40_q))\n",
    "        q40_gq = get_stripped(row.get(q40_quote))\n",
    "        q40_codes = collect_codes(row, q40_ranges)\n",
    "        if any([q40_ans, q40_gq, q40_codes]):\n",
    "            out[\"Question 40\"] = {\n",
    "                \"Question\": q40_q,\n",
    "                \"Response\": q40_ans or \"\",\n",
    "                \"GoodQuote\": q40_gq or \"\",\n",
    "            }\n",
    "            if q40_codes:\n",
    "                out[\"Question 40\"][\"Codes\"] = q40_codes\n",
    "\n",
    "        # Q41\n",
    "        q41_ans = get_stripped(row.get(q41_q))\n",
    "        q41_gq = get_stripped(row.get(q41_quote))\n",
    "        q41_codes = collect_codes(row, q41_ranges)\n",
    "        if any([q41_ans, q41_gq, q41_codes]):\n",
    "            out[\"Question 41\"] = {\n",
    "                \"Question\": q41_q,\n",
    "                \"Response\": q41_ans or \"\",\n",
    "                \"GoodQuote\": q41_gq or \"\",\n",
    "            }\n",
    "            if q41_codes:\n",
    "                out[\"Question 41\"][\"Codes\"] = q41_codes\n",
    "\n",
    "        # Q42\n",
    "        q42_ans = get_stripped(row.get(q42_q))\n",
    "        q42_gq = get_stripped(row.get(q42_quote))\n",
    "        q42_codes = collect_codes(row, q42_ranges)\n",
    "        if any([q42_ans, q42_gq, q42_codes]):\n",
    "            out[\"Question 42\"] = {\n",
    "                \"Question\": q42_q,\n",
    "                \"Response\": q42_ans or \"\",\n",
    "                \"GoodQuote\": q42_gq or \"\",\n",
    "            }\n",
    "            if q42_codes:\n",
    "                out[\"Question 42\"][\"Codes\"] = q42_codes\n",
    "\n",
    "        # Q43\n",
    "        q43_ans = get_stripped(row.get(q43_q))\n",
    "        q43_gq = get_stripped(row.get(q43_quote))\n",
    "        reasons = [get_stripped(row.get(c)) for c in q43_reasons]\n",
    "        reasons = [r for r in reasons if r]\n",
    "        if any([q43_ans, q43_gq, reasons]):\n",
    "            out[\"Question 43\"] = {\n",
    "                \"Question\": q43_q,\n",
    "                \"Response\": q43_ans or \"\",\n",
    "                \"GoodQuote\": q43_gq or \"\",\n",
    "            }\n",
    "            if reasons:\n",
    "                out[\"Question 43\"][\"Reasons\"] = reasons\n",
    "\n",
    "        # Only write if at least one Question 40–43 exists\n",
    "        if any(k.startswith(\"Question \") for k in out.keys()):\n",
    "            fp = out_path / f\"{rid}.json\"\n",
    "            with open(fp, \"w\", encoding=\"utf-8\") as f:\n",
    "                json.dump(out, f, ensure_ascii=False, indent=2)\n",
    "            written_files.append(str(fp))\n",
    "\n",
    "    return written_files\n"
   ]
  },
  {
   "cell_type": "code",
   "execution_count": 20,
   "id": "b88a6162",
   "metadata": {},
   "outputs": [
    {
     "name": "stdout",
     "output_type": "stream",
     "text": [
      "Wrote 5454 files\n"
     ]
    }
   ],
   "source": [
    "files = export_survey_rows_to_json(clean_coding_data, out_dir=\"survey_results\")\n",
    "print(f\"Wrote {len(files)} files\")"
   ]
  },
  {
   "cell_type": "code",
   "execution_count": 21,
   "id": "d05b722f",
   "metadata": {},
   "outputs": [
    {
     "data": {
      "text/plain": [
       "array([['R_4q2uHXW2PPCK345', 1.0, 4.0, 5.0, 3.0, 5.0,\n",
       "        'Learning from AI is quick when you have questions but the teacher (supervisor) is better at explaining related to your context.',\n",
       "        nan, 'A', 'more', 'Speed', 'T', 'more', 'Contextualised', nan,\n",
       "        nan, nan, nan, nan, nan, nan, nan, nan, nan, nan, nan,\n",
       "        'Maybe just more of a human connection with the teacher.', nan,\n",
       "        'T', 'more', 'Personal', nan, nan, nan, nan, nan, nan, nan, nan,\n",
       "        nan,\n",
       "        'feedback from AI especially when asking for code for an analysis is very hit and miss a teacher would have a better understanding on what you are trying to accomplish',\n",
       "        nan, 'T', 'more', 'Contextualised', 'A', 'less', 'Reliable', nan,\n",
       "        nan, nan, nan, nan, nan, nan, nan, nan, nan, nan]], dtype=object)"
      ]
     },
     "execution_count": 21,
     "metadata": {},
     "output_type": "execute_result"
    }
   ],
   "source": [
    "clean_coding_data[clean_coding_data[\"ResponseId\"]==\"R_4q2uHXW2PPCK345\"].values\n"
   ]
  },
  {
   "cell_type": "code",
   "execution_count": 22,
   "id": "45fd74ae",
   "metadata": {},
   "outputs": [
    {
     "data": {
      "text/plain": [
       "Index(['ResponseId', 'Q37_feedback_on_work', 'Q38_1_feedback_helpful_AI',\n",
       "       'Q38_2_feedback_helpful_teacher', 'Q39_1_feedback_trust_AI',\n",
       "       'Q39_2_feedback_trust_teacher',\n",
       "       'Please describe any differences in how it impacted your learning (comparing GenAI and your teacher)?',\n",
       "       'Good Quote', 'Actor', 'Comparator', 'Characteristic', 'Actor.1',\n",
       "       'Comparator.1', 'Characteristic.1', 'Actor.2', 'Comparator.2',\n",
       "       'Characteristic.2', 'Actor.3', 'Comparator.3', 'Characteristic.3',\n",
       "       'Actor.4', 'Comparator.4', 'Characteristic.4', 'Actor.5',\n",
       "       'Comparator.5', 'Characteristic.5',\n",
       "       'Were there any differences in how the feedback made you feel (comparing GenAI and your teacher)?',\n",
       "       'Good Quote.1', 'Actor.6', 'Comparator.6', 'Characteristic.6',\n",
       "       'Actor.7', 'Comparator.7', 'Characteristic.7', 'Actor.8',\n",
       "       'Comparator.8', 'Characteristic.8', 'Actor.9', 'Comparator.9',\n",
       "       'Characteristic.9',\n",
       "       'Describe any other differences between the feedback you received from GenAI and your teacher.',\n",
       "       'Good Quote.2', 'Actor.10', 'Comparator.10', 'Characteristic.10',\n",
       "       'Actor.11', 'Comparator.11', 'Characteristic.11', 'Actor.12',\n",
       "       'Comparator.12', 'Characteristic.12', 'Actor.13', 'Comparator.13',\n",
       "       'Characteristic.13',\n",
       "       'Why didn’t you use GenAI for feedback on your work?', 'Good quote',\n",
       "       'Reason 1', 'Reason 2', 'Reason 3'],\n",
       "      dtype='object')"
      ]
     },
     "execution_count": 22,
     "metadata": {},
     "output_type": "execute_result"
    }
   ],
   "source": [
    "clean_coding_data.columns"
   ]
  },
  {
   "cell_type": "markdown",
   "id": "96d43d26",
   "metadata": {},
   "source": []
  }
 ],
 "metadata": {
  "kernelspec": {
   "display_name": "aml_kaggle_chll",
   "language": "python",
   "name": "python3"
  },
  "language_info": {
   "codemirror_mode": {
    "name": "ipython",
    "version": 3
   },
   "file_extension": ".py",
   "mimetype": "text/x-python",
   "name": "python",
   "nbconvert_exporter": "python",
   "pygments_lexer": "ipython3",
   "version": "3.11.4"
  }
 },
 "nbformat": 4,
 "nbformat_minor": 5
}
